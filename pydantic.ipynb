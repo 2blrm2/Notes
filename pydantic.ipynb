{
 "cells": [
  {
   "cell_type": "code",
   "execution_count": 7,
   "id": "ecd72099",
   "metadata": {},
   "outputs": [
    {
     "name": "stdout",
     "output_type": "stream",
     "text": [
      "2.11.9\n"
     ]
    }
   ],
   "source": [
    "# pip uninstall pydantic -y\n",
    "# pip install pydantic\n",
    "\n",
    "import pydantic\n",
    "print(pydantic.__version__)"
   ]
  },
  {
   "cell_type": "code",
   "execution_count": 41,
   "id": "e00f7089",
   "metadata": {},
   "outputs": [],
   "source": [
    "from pydantic import BaseModel,Field, field_validator, model_validator, computed_field\n",
    "from pydantic import AnyUrl,EmailStr\n",
    "from typing import List,Dict,Optional,Annotated"
   ]
  },
  {
   "cell_type": "code",
   "execution_count": 61,
   "id": "15566650",
   "metadata": {},
   "outputs": [
    {
     "name": "stdout",
     "output_type": "stream",
     "text": [
      "<class '__main__.Student'>\n",
      "<class 'dict'>\n",
      "{'address': {'city': 'gurgaon', 'state': 'haryana', 'pin': '122001'}, 'name': 'IRONMAN', 'age': 23, 'height': 1.7, 'weight': 40, 'contact_details': {'phone': '1234567890'}, 'allergies': ['A', 'B'], 'email': 'abc@gmail.com', 'linkedin_url': AnyUrl('http://linkedin.com/1322'), 'bmi': 13.84}\n"
     ]
    }
   ],
   "source": [
    "class Address(BaseModel):\n",
    "    city: str\n",
    "    state: str\n",
    "    pin: str\n",
    "\n",
    "class Student(BaseModel):\n",
    "    address: Address\n",
    "        \n",
    "    name: Annotated[str,Field(max_length=50,title='Name of the Student',description= 'Give the name of the student in lessthan 50 character',\n",
    "                              examples= ['John','Ram'])]\n",
    "    age: int = Field(gt=8,lt=25)\n",
    "    height: float  ## mtr   \n",
    "    weight: Annotated[float,Field(gt=45)]\n",
    "    married: Annotated[bool, Field(default=None, description='Is the patient married or not')]\n",
    "    contact_details: Dict[str, str]\n",
    "        \n",
    "    allergies: Annotated[Optional[List[str]], Field(default='Nothing', max_length=5)]\n",
    "    \n",
    "    email : EmailStr\n",
    "    linkedin_url: AnyUrl\n",
    "        \n",
    "        \n",
    "    @field_validator('email')\n",
    "    @classmethod\n",
    "    def email_validator(cls, value):\n",
    "\n",
    "        valid_domains = ['gmail.com', 'yahoo.com']\n",
    "        # abc@gmail.com\n",
    "        domain_name = value.split('@')[-1]\n",
    "\n",
    "        if domain_name not in valid_domains:\n",
    "            raise ValueError('Not a valid domain')\n",
    "\n",
    "        return value\n",
    "    \n",
    "    @field_validator('name')\n",
    "    @classmethod\n",
    "    def transform_name(cls, value):\n",
    "        return value.upper()\n",
    "    \n",
    "    @field_validator('weight', mode='after')\n",
    "    @classmethod\n",
    "    def validate_age(cls, value):\n",
    "        if 0 < value < 70:\n",
    "            return value\n",
    "        else:\n",
    "            return 40\n",
    "        \n",
    "        \n",
    "    @model_validator(mode='after')\n",
    "    def validate_emergency_contact(cls, model):\n",
    "        if model.age < 10 and 'Parents_number' not in model.contact_details:\n",
    "            raise ValueError('student is minor must have an parents contact number')\n",
    "        return model\n",
    "    \n",
    "    \n",
    "    \n",
    "    @computed_field\n",
    "    @property\n",
    "    def bmi(cls) -> float:\n",
    "        bmi = round(cls.weight/(cls.height**2),2)\n",
    "        return bmi\n",
    "\n",
    "        \n",
    "        \n",
    "address_dict = {'city': 'gurgaon', 'state': 'haryana', 'pin': '122001'}\n",
    "\n",
    "address1 = Address(**address_dict)\n",
    "\n",
    "student_info_1 = {\n",
    "                'address': address1,\n",
    "                'name':'ironman', \n",
    "                'email':'abc@gmail.com',\n",
    "                'linkedin_url':'http://linkedin.com/1322',\n",
    "                'age': '23', \n",
    "                'weight': 75.2,\n",
    "                'height' : 1.7, \n",
    "                'allergies': ['A','B'],\n",
    "                'contact_details':{'phone':'1234567890'}}\n",
    "\n",
    "\n",
    "student_1 = Student(**student_info_1)\n",
    "\n",
    "print(type(student_1))\n",
    "temp = student_1.model_dump(exclude_unset=True)\n",
    "print(type(temp))\n",
    "print(temp)\n",
    "    "
   ]
  },
  {
   "cell_type": "code",
   "execution_count": 57,
   "id": "d82035da",
   "metadata": {},
   "outputs": [
    {
     "ename": "ValidationError",
     "evalue": "1 validation error for Student\n  Value error, student is minor must have an parents contact number [type=value_error, input_value={'address': Address(city=...{'phone': '1234567890'}}, input_type=dict]\n    For further information visit https://errors.pydantic.dev/2.11/v/value_error",
     "output_type": "error",
     "traceback": [
      "\u001b[1;31m---------------------------------------------------------------------------\u001b[0m",
      "\u001b[1;31mValidationError\u001b[0m                           Traceback (most recent call last)",
      "Cell \u001b[1;32mIn[57], line 17\u001b[0m\n\u001b[0;32m      3\u001b[0m address1 \u001b[38;5;241m=\u001b[39m Address(\u001b[38;5;241m*\u001b[39m\u001b[38;5;241m*\u001b[39maddress_dict)\n\u001b[0;32m      5\u001b[0m student_info_2 \u001b[38;5;241m=\u001b[39m {\n\u001b[0;32m      6\u001b[0m                 \u001b[38;5;124m'\u001b[39m\u001b[38;5;124maddress\u001b[39m\u001b[38;5;124m'\u001b[39m: address1,\n\u001b[0;32m      7\u001b[0m                 \u001b[38;5;124m'\u001b[39m\u001b[38;5;124mname\u001b[39m\u001b[38;5;124m'\u001b[39m:\u001b[38;5;124m'\u001b[39m\u001b[38;5;124mnitish\u001b[39m\u001b[38;5;124m'\u001b[39m, \n\u001b[1;32m   (...)\u001b[0m\n\u001b[0;32m     13\u001b[0m                 \u001b[38;5;124m'\u001b[39m\u001b[38;5;124mallergies\u001b[39m\u001b[38;5;124m'\u001b[39m: [\u001b[38;5;124m'\u001b[39m\u001b[38;5;124mA\u001b[39m\u001b[38;5;124m'\u001b[39m,\u001b[38;5;124m'\u001b[39m\u001b[38;5;124mB\u001b[39m\u001b[38;5;124m'\u001b[39m],\n\u001b[0;32m     14\u001b[0m                 \u001b[38;5;124m'\u001b[39m\u001b[38;5;124mcontact_details\u001b[39m\u001b[38;5;124m'\u001b[39m:{\u001b[38;5;124m'\u001b[39m\u001b[38;5;124mphone\u001b[39m\u001b[38;5;124m'\u001b[39m:\u001b[38;5;124m'\u001b[39m\u001b[38;5;124m1234567890\u001b[39m\u001b[38;5;124m'\u001b[39m}}\n\u001b[1;32m---> 17\u001b[0m student_2 \u001b[38;5;241m=\u001b[39m Student(\u001b[38;5;241m*\u001b[39m\u001b[38;5;241m*\u001b[39mstudent_info_2)\n\u001b[0;32m     19\u001b[0m \u001b[38;5;28mprint\u001b[39m(\u001b[38;5;28mtype\u001b[39m(student_2))\n\u001b[0;32m     20\u001b[0m temp2 \u001b[38;5;241m=\u001b[39m student_2\u001b[38;5;241m.\u001b[39mmodel_dump(exclude_unset\u001b[38;5;241m=\u001b[39m\u001b[38;5;28;01mTrue\u001b[39;00m)\n",
      "File \u001b[1;32m~\\anaconda3\\Lib\\site-packages\\pydantic\\main.py:253\u001b[0m, in \u001b[0;36mBaseModel.__init__\u001b[1;34m(self, **data)\u001b[0m\n\u001b[0;32m    251\u001b[0m \u001b[38;5;66;03m# `__tracebackhide__` tells pytest and some other tools to omit this function from tracebacks\u001b[39;00m\n\u001b[0;32m    252\u001b[0m __tracebackhide__ \u001b[38;5;241m=\u001b[39m \u001b[38;5;28;01mTrue\u001b[39;00m\n\u001b[1;32m--> 253\u001b[0m validated_self \u001b[38;5;241m=\u001b[39m \u001b[38;5;28mself\u001b[39m\u001b[38;5;241m.\u001b[39m__pydantic_validator__\u001b[38;5;241m.\u001b[39mvalidate_python(data, self_instance\u001b[38;5;241m=\u001b[39m\u001b[38;5;28mself\u001b[39m)\n\u001b[0;32m    254\u001b[0m \u001b[38;5;28;01mif\u001b[39;00m \u001b[38;5;28mself\u001b[39m \u001b[38;5;129;01mis\u001b[39;00m \u001b[38;5;129;01mnot\u001b[39;00m validated_self:\n\u001b[0;32m    255\u001b[0m     warnings\u001b[38;5;241m.\u001b[39mwarn(\n\u001b[0;32m    256\u001b[0m         \u001b[38;5;124m'\u001b[39m\u001b[38;5;124mA custom validator is returning a value other than `self`.\u001b[39m\u001b[38;5;130;01m\\n\u001b[39;00m\u001b[38;5;124m'\u001b[39m\n\u001b[0;32m    257\u001b[0m         \u001b[38;5;124m\"\u001b[39m\u001b[38;5;124mReturning anything other than `self` from a top level model validator isn\u001b[39m\u001b[38;5;124m'\u001b[39m\u001b[38;5;124mt supported when validating via `__init__`.\u001b[39m\u001b[38;5;130;01m\\n\u001b[39;00m\u001b[38;5;124m\"\u001b[39m\n\u001b[0;32m    258\u001b[0m         \u001b[38;5;124m'\u001b[39m\u001b[38;5;124mSee the `model_validator` docs (https://docs.pydantic.dev/latest/concepts/validators/#model-validators) for more details.\u001b[39m\u001b[38;5;124m'\u001b[39m,\n\u001b[0;32m    259\u001b[0m         stacklevel\u001b[38;5;241m=\u001b[39m\u001b[38;5;241m2\u001b[39m,\n\u001b[0;32m    260\u001b[0m     )\n",
      "\u001b[1;31mValidationError\u001b[0m: 1 validation error for Student\n  Value error, student is minor must have an parents contact number [type=value_error, input_value={'address': Address(city=...{'phone': '1234567890'}}, input_type=dict]\n    For further information visit https://errors.pydantic.dev/2.11/v/value_error"
     ]
    }
   ],
   "source": [
    "address_dict = {'city': 'gurgaon', 'state': 'haryana', 'pin': '122001'}\n",
    "\n",
    "address1 = Address(**address_dict)\n",
    "\n",
    "student_info_2 = {\n",
    "                'address': address1,\n",
    "                'name':'nitish', \n",
    "                'email':'abc@gmail.com',\n",
    "                'linkedin_url':'http://linkedin.com/1322',\n",
    "                'age': '9', \n",
    "                'weight': 75.2,\n",
    "                'height' : 1.74, \n",
    "                'allergies': ['A','B'],\n",
    "                'contact_details':{'phone':'1234567890'}}\n",
    "\n",
    "\n",
    "student_2 = Student(**student_info_2)\n",
    "\n",
    "print(type(student_2))\n",
    "temp2 = student_2.model_dump(exclude_unset=True)\n",
    "print(type(temp2))\n",
    "print(temp2)"
   ]
  },
  {
   "cell_type": "code",
   "execution_count": 11,
   "id": "e3ec5ddc",
   "metadata": {},
   "outputs": [],
   "source": [
    "#pip install pydantic[email]"
   ]
  },
  {
   "cell_type": "code",
   "execution_count": null,
   "id": "dbdb05da",
   "metadata": {},
   "outputs": [],
   "source": []
  }
 ],
 "metadata": {
  "kernelspec": {
   "display_name": "Python 3 (ipykernel)",
   "language": "python",
   "name": "python3"
  },
  "language_info": {
   "codemirror_mode": {
    "name": "ipython",
    "version": 3
   },
   "file_extension": ".py",
   "mimetype": "text/x-python",
   "name": "python",
   "nbconvert_exporter": "python",
   "pygments_lexer": "ipython3",
   "version": "3.11.5"
  }
 },
 "nbformat": 4,
 "nbformat_minor": 5
}
